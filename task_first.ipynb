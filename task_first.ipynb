{
  "nbformat": 4,
  "nbformat_minor": 0,
  "metadata": {
    "colab": {
      "provenance": [],
      "authorship_tag": "ABX9TyNDWDWM6rMDVlzWp+HThcTr",
      "include_colab_link": true
    },
    "kernelspec": {
      "name": "python3",
      "display_name": "Python 3"
    },
    "language_info": {
      "name": "python"
    }
  },
  "cells": [
    {
      "cell_type": "markdown",
      "metadata": {
        "id": "view-in-github",
        "colab_type": "text"
      },
      "source": [
        "<a href=\"https://colab.research.google.com/github/Tatiana130197/statistical-workshop/blob/main/task_first.ipynb\" target=\"_parent\"><img src=\"https://colab.research.google.com/assets/colab-badge.svg\" alt=\"Open In Colab\"/></a>"
      ]
    },
    {
      "cell_type": "markdown",
      "source": [
        "## **Домашнее задание 1**\n",
        "\n",
        "---\n",
        "\n"
      ],
      "metadata": {
        "id": "ZAX9fb6d97Rz"
      }
    },
    {
      "cell_type": "markdown",
      "source": [
        "1) Составьте кортеж, содержащий натуральные числа, квадрат которых кратен 3, 4, но не кратен 8 и не превышает 12345."
      ],
      "metadata": {
        "id": "VQ8Yy-Ef_I2f"
      }
    },
    {
      "cell_type": "code",
      "source": [
        "import math\n",
        "\n",
        "result = []\n",
        "max_x = math.isqrt(12345)\n",
        "\n",
        "for x in range(1, max_x + 1):\n",
        "    if (x**2) % 12 == 0 and (x**2) % 8 != 0:\n",
        "      result.append(x)\n",
        "\n",
        "result_tuple = tuple(result)\n",
        "print(result_tuple)"
      ],
      "metadata": {
        "colab": {
          "base_uri": "https://localhost:8080/"
        },
        "id": "BhLNmqKL_J7h",
        "outputId": "eea92d0e-a348-4612-dbd7-d32b97807fc8"
      },
      "execution_count": 6,
      "outputs": [
        {
          "output_type": "stream",
          "name": "stdout",
          "text": [
            "(6, 18, 30, 42, 54, 66, 78, 90, 102)\n"
          ]
        }
      ]
    },
    {
      "cell_type": "markdown",
      "source": [
        "2) Напишите функцию, которая принимает на вход двумерный массив и строку и возвращает массив, повернутый на 90 градусов против часовой стрелки, если была передана строка \"влево\", и по часовой стрелке, если была передана строка \"вправо\"."
      ],
      "metadata": {
        "id": "ZrcFcEUQG0q8"
      }
    },
    {
      "cell_type": "code",
      "source": [
        "from os import strerror\n",
        "def func(matrix, str):\n",
        "\n",
        "    if str == \"влево\":\n",
        "        return [list(row) for row in zip(*matrix)][::-1]\n",
        "    elif str == \"вправо\":\n",
        "        return [list(row)[::-1] for row in zip(*matrix)]\n",
        "\n",
        "print(\"Введите двумерный массив (вводите строки через пробел, завершите ввод пустой строкой):\")\n",
        "matrix = []\n",
        "while True:\n",
        "    row = input().strip() #удалить лишние пробелы\n",
        "    if not row:\n",
        "        break\n",
        "    matrix.append(list(map(int, row.split())))\n",
        "\n",
        "str = input(\"Введите направление поворота ('влево' или 'вправо'): \").strip().lower()\n",
        "try:\n",
        "    func = func(matrix, str)\n",
        "    print(\"Результат поворота:\")\n",
        "    for row in func:\n",
        "        print(row)\n",
        "    except ValueError as e:\n",
        "    print(e)"
      ],
      "metadata": {
        "colab": {
          "base_uri": "https://localhost:8080/"
        },
        "id": "_yUp2sFAIucs",
        "outputId": "2ca25670-260e-4450-da54-ef8b99404adf"
      },
      "execution_count": 13,
      "outputs": [
        {
          "output_type": "stream",
          "name": "stdout",
          "text": [
            "Введите двумерный массив (вводите строки через пробел, завершите ввод пустой строкой):\n",
            "1 2 3\n",
            "1 2 3\n",
            "11 2 1\n",
            "1 1 1\n",
            "\n",
            "Введите направление поворота ('влево' или 'вправо'): влево\n",
            "Результат поворота:\n",
            "[3, 3, 1, 1]\n",
            "[2, 2, 2, 1]\n",
            "[1, 1, 11, 1]\n"
          ]
        }
      ]
    },
    {
      "cell_type": "markdown",
      "source": [
        "3) Напишите функцию, которая принимает строку в качестве входных данных и возвращает словарь, содержащий количество вхождений каждого символа в строку."
      ],
      "metadata": {
        "id": "mDqOf_RoI629"
      }
    },
    {
      "cell_type": "code",
      "source": [
        "from collections import Counter\n",
        "\n",
        "def count_characters(input_string):\n",
        "    return Counter(input_string)\n",
        "\n",
        "input_string = input(\"Введите строку: \")\n",
        "result = count_characters(input_string)\n",
        "print(\"Количество вхождений каждого символа:\")\n",
        "print(result)"
      ],
      "metadata": {
        "id": "EKV7DDjyOZek"
      },
      "execution_count": null,
      "outputs": []
    },
    {
      "cell_type": "markdown",
      "source": [
        "4) Задача о внедрение системы управления библиотекой"
      ],
      "metadata": {
        "id": "aOKET73-aZy2"
      }
    },
    {
      "cell_type": "code",
      "source": [
        "from datetime import datetime\n",
        "\n",
        "class Book:\n",
        "    def __init__(self, title, author, year, isbn, copies):\n",
        "        self.title = title\n",
        "        self.author = author\n",
        "        self.year = year\n",
        "        self.isbn = isbn\n",
        "        self.copies = copies\n",
        "\n",
        "    def __str__(self):\n",
        "        return f'\"{self.title}\" by {self.author} ({self.year}) - {self.copies} copies available'\n",
        "\n",
        "    def change_copies(self, amount):\n",
        "        self.copies += amount\n",
        "\n",
        "class User:\n",
        "    def __init__(self, name, card_number):\n",
        "        self.name = name\n",
        "        self.card_number = card_number\n",
        "        self.borrowed_books = []\n",
        "\n",
        "    def __str__(self):\n",
        "        return f'{self.name} (Card: {self.card_number})'\n",
        "\n",
        "    def borrow_book(self, book):\n",
        "        if book.copies > 0:\n",
        "            book.change_copies(-1)\n",
        "            self.borrowed_books.append(book)\n",
        "            return True\n",
        "        return False\n",
        "\n",
        "    def return_book(self, book):\n",
        "        if book in self.borrowed_books:\n",
        "            book.change_copies(1)\n",
        "            self.borrowed_books.remove(book)\n",
        "            return True\n",
        "        return False\n",
        "\n",
        "class Library:\n",
        "    def __init__(self):\n",
        "        self.books = []\n",
        "        self.users = []\n",
        "        self.transactions = []\n",
        "\n",
        "    def add_book(self, book):\n",
        "        self.books.append(book)\n",
        "\n",
        "    def remove_book(self, isbn):\n",
        "        self.books = [book for book in self.books if book.isbn != isbn]\n",
        "\n",
        "    def find_book(self, title):\n",
        "        return [book for book in self.books if title.lower() in book.title.lower()]\n",
        "\n",
        "    def add_user(self, user):\n",
        "        self.users.append(user)\n",
        "\n",
        "    def remove_user(self, card_number):\n",
        "        self.users = [user for user in self.users if user.card_number != card_number]\n",
        "\n",
        "    def find_user(self, name):\n",
        "        return [user for user in self.users if name.lower() in user.name.lower()]\n",
        "\n",
        "    def borrow_book(self, user_card, book_title):\n",
        "        user = next((u for u in self.users if u.card_number == user_card), None)\n",
        "        book = next((b for b in self.books if b.title.lower() == book_title.lower()), None)\n",
        "\n",
        "        if user and book and user.borrow_book(book):\n",
        "            self.transactions.append(f'{datetime.now()}: {user.name} borrowed \"{book.title}\"')\n",
        "            return True\n",
        "        return False\n",
        "\n",
        "    def return_book(self, user_card, book_title):\n",
        "        user = next((u for u in self.users if u.card_number == user_card), None)\n",
        "        book = next((b for b in user.borrowed_books if b.title.lower() == book_title.lower()), None)\n",
        "\n",
        "        if user and book and user.return_book(book):\n",
        "            self.transactions.append(f'{datetime.now()}: {user.name} returned \"{book.title}\"')\n",
        "            return True\n",
        "        return False\n",
        "\n",
        "    def show_transactions(self):\n",
        "        return '\\n'.join(self.transactions)\n",
        "\n",
        "# Пример использования\n",
        "\n",
        "lib = Library()\n",
        "book1 = Book(\"Rich poor dad\", \"By Robert T. Kiyosaki and Sharon Lecter\", 1997, \"1234567890\", 3)\n",
        "book2 = Book(\"Important years\", \"Meg Jay\", 2014, \"9785001952169\", 2)\n",
        "user1 = User(\"Alice\", \"001\")\n",
        "\n",
        "lib.add_book(book1)\n",
        "lib.add_book(book2)\n",
        "lib.add_user(user1)\n",
        "\n",
        "lib.borrow_book(\"001\", \"Important years\")\n",
        "lib.return_book(\"001\", \"Important years\")\n",
        "\n",
        "print(lib.show_transactions())\n"
      ],
      "metadata": {
        "colab": {
          "base_uri": "https://localhost:8080/"
        },
        "id": "SIWpO9ybsViM",
        "outputId": "ad3ce71e-3695-4247-c487-ad1d00f28cf0"
      },
      "execution_count": 3,
      "outputs": [
        {
          "output_type": "stream",
          "name": "stdout",
          "text": [
            "2025-02-16 12:24:21.603326: Alice borrowed \"Important years\"\n",
            "2025-02-16 12:24:21.603369: Alice returned \"Important years\"\n"
          ]
        }
      ]
    },
    {
      "cell_type": "markdown",
      "source": [
        "$5^{*}$) Объясните, почему список b изменяется после выполнения следующего кода:  "
      ],
      "metadata": {
        "id": "YFOSjoBruP_1"
      }
    },
    {
      "cell_type": "code",
      "source": [
        "a = [1, 2, 3]\n",
        "b = a\n",
        "a[0] = 4\n",
        "print(b)"
      ],
      "metadata": {
        "colab": {
          "base_uri": "https://localhost:8080/"
        },
        "id": "W1tA2oVXujdU",
        "outputId": "6bd7c187-2ecb-4c42-c014-87c59bb56636"
      },
      "execution_count": 4,
      "outputs": [
        {
          "output_type": "stream",
          "name": "stdout",
          "text": [
            "[4, 2, 3]\n"
          ]
        }
      ]
    },
    {
      "cell_type": "markdown",
      "source": [
        "Объяснение: С помощью строки кода a[0] = 4 мы изменили первый элемент списка, так как индексация начинается с нуля. Важно, что переменная b ссылается на тот же объект, что и a. Поэтому изменение через a также влияет на содержимое списка, к которому относится переменная b.\n",
        "\n",
        "Таким образом, после выполнения кода список, на который ссылаются обе переменные, изменяется, и при выводе b мы видим обновленный список."
      ],
      "metadata": {
        "id": "okXmtL0dvDR8"
      }
    },
    {
      "cell_type": "markdown",
      "source": [
        "$5^{*}$) Пусть $A = \\sum_{i=1}^{10000} \\frac{1}{i^2}$ и $B = \\sum^{1}_{i = 10000} \\frac{1}{i^2}$.\n",
        "\n",
        "Вычислите значения A и B и сравните их. Что вы наблюдаете? Объясните, почему это происходит. Каков наилучший способ вычисления значения $\\sum_{i=1}^{10000} \\frac{1}{i^2}$ ?\n"
      ],
      "metadata": {
        "id": "O2yzsQQexAfK"
      }
    },
    {
      "cell_type": "code",
      "source": [
        "A = sum(1 / (i ** 2) for i in range(1, 10001))\n",
        "B = sum(1 / (i ** 2) for i in range(10000, 0, -1))\n",
        "\n",
        "epsilon = 1e-12\n",
        "are_equal = abs(A - B) < epsilon\n",
        "\n",
        "print(f\"A и B равны с точностью до {epsilon}: {are_equal}\")\n",
        "print(f\"A = {A:.15f}\")\n",
        "print(f\"B = {B:.15f}\")\n",
        "print(f\"A == B: {A == B}\")"
      ],
      "metadata": {
        "colab": {
          "base_uri": "https://localhost:8080/"
        },
        "id": "rPhR0VCsxPxj",
        "outputId": "f5ce2fd6-682c-4483-fba3-fae57b0e660e"
      },
      "execution_count": 8,
      "outputs": [
        {
          "output_type": "stream",
          "name": "stdout",
          "text": [
            "A и B равны с точностью до 1e-12: True\n",
            "A = 1.644834071848065\n",
            "B = 1.644834071848060\n",
            "A == B: False\n"
          ]
        }
      ]
    },
    {
      "cell_type": "markdown",
      "source": [
        "Обратим внимание, что в выражении для B индексы суммирования записаны в обратном порядке по сравнению с A. Это означает, что B — это сумма тех же слагаемых, что и в A, но в обратном порядке.\n",
        "\n",
        "**Математически** A и B равны, так как сумма не зависит от порядка слагаемых (свойство коммутативности сложения). Однако на практике, при вычислениях на компьютере, из-за погрешностей округления A и B могут немного отличаться. Давайте это и рассмотрим.\n",
        "\n",
        "После выполнения кода мы видим, что A и B равны с точностью до 1e-12. Отметим, что использование epsilon — это стандартный способ сравнения чисел с плавающей точкой, который учитывает их неточность. Вместо проверки точного равенства `==`, мы проверяем, что разница между числами меньше некоторого малого значения `epsilon`.\n",
        "\n",
        "Однако если сравнить числа без учета погрешности, то результат будет другим: числа A и B окажутся не равными. Это связано с тем, что числа с плавающей точкой имеют ограниченную точность. При выполнении арифметических операций могут возникать небольшие погрешности округления, которые накапливаются, особенно при работе с большим количеством операций. Именно поэтому оператор `==`, проверяющий **точное равенство**, не подходит для сравнения чисел с плавающей точкой.\n",
        "\n",
        "Отметим, что разница между A и B возникает из-за того, что при суммировании в разном порядке (от меньших к большим и от больших к меньшим) погрешности округления накапливаются по-разному.\n",
        "\n",
        "Наилучшим способом вычисления суммы $\\sum_{i=1}^{10000} \\frac{1}{i^2}$ является суммирование от меньших значений к большим (как в A), то есть маленькие числа добавляются к уже накопленной сумме, что уменьшает потерю точности. А при суммировании от больших значений к меньшим (как в B), наоборот, маленькие числа добавляются к большим, что может привести к потере их вклада из-за ограниченной точности чисел с плавающей точкой.\n",
        "\n",
        "Стоит сказать, что для повышения точности можно использовать библиотеки для работы с числами высокой точности (например, decimal в Python).\n",
        "\n"
      ],
      "metadata": {
        "id": "G6__nXv4vtMh"
      }
    }
  ]
}